{
  "nbformat": 4,
  "nbformat_minor": 0,
  "metadata": {
    "colab": {
      "provenance": []
    },
    "kernelspec": {
      "name": "python3",
      "display_name": "Python 3"
    },
    "language_info": {
      "name": "python"
    }
  },
  "cells": [
    {
      "cell_type": "markdown",
      "source": [
        "# **Theory Questions**\n"
      ],
      "metadata": {
        "id": "CPLklmsZxHPH"
      }
    },
    {
      "cell_type": "markdown",
      "source": [
        "**Q1.What is the difference between interpreted and compiled languages?**"
      ],
      "metadata": {
        "id": "c7ofnmbDxOvW"
      }
    },
    {
      "cell_type": "markdown",
      "source": [
        "Ans:-\n",
        "Compiled Languages\n",
        "* Definition: A compiled language is one where the source code is translated into machine code (binary) by a compiler before execution.\n",
        "* Execution flow:\n",
        "Source Code → Compiler → Machine Code → Run\n",
        "* Speed: Runs faster because the translation happens once, and the machine code is directly executed by the CPU.\n",
        "* Examples: C, C++, Rust, Go\n",
        "\n",
        "Interpreted Languages\n",
        "* Definition: An interpreted language is one where the source code is executed line by line by an interpreter at runtime.\n",
        "* Execution flow:\n",
        "Source Code → Interpreter → Execution\n",
        "* Speed: Runs slower compared to compiled languages because translation happens during execution.\n",
        "* Examples: Python, JavaScript, Ruby, PHP"
      ],
      "metadata": {
        "id": "nvMqCcHcxm3a"
      }
    },
    {
      "cell_type": "markdown",
      "source": [
        "**Q2. What is exception handling in Python?**"
      ],
      "metadata": {
        "id": "CRlPhEO4yDim"
      }
    },
    {
      "cell_type": "markdown",
      "source": [
        "Ans:- Exception handling in Python is a mechanism to deal with errors that occur while a program is running, so that the program doesn’t crash unexpectedly.exception handling is used to ensure that runtime errors are caught, handled properly, and program termination is prevented.\n",
        "\n",
        "An exception is defined as an error that is raised during the execution of a program.\n",
        "\n",
        "Examples:\n",
        "* A division by zero is raised as a ZeroDivisionError.\n",
        "* The use of an undefined variable is raised as a NameError.\n",
        "* The attempt to open a missing file is raised as a FileNotFoundError.\n",
        "\n",
        "Without exception handling, the program is terminated when an error is raised.\n",
        "With exception handling, the error is caught, handled gracefully, and program continuation is ensured.\n",
        "\n",
        "In Python, exception handling is provided through the use of the try, except, else, and finally blocks:"
      ],
      "metadata": {
        "id": "8Fd6Ezz2BVPZ"
      }
    },
    {
      "cell_type": "markdown",
      "source": [
        "**Q3. What is the purpose of the finally block in exception handling?**\n"
      ],
      "metadata": {
        "id": "UIRvUGhqBpqd"
      }
    },
    {
      "cell_type": "markdown",
      "source": [
        "Ans:- In exception handling, the purpose of the finally block is to define a section of code that is always executed, regardless of whether an exception occurs or not.\n",
        "\n",
        "It ensures that cleanup tasks such as closing files, releasing resources, disconnecting from a database, or freeing memory are always performed.\n",
        "\n",
        "The finally block runs after the try and except blocks, whether an exception was raised, handled, or no exception occurred at all.\n",
        "\n",
        "Example:\n",
        "```\n",
        "try:\n",
        "    file = open(\"example.txt\", \"r\")\n",
        "    data = file.read()\n",
        "except FileNotFoundError:\n",
        "    print(\"File not found.\")\n",
        "finally:\n",
        "    print(\"Closing file...\")\n",
        "    file.close()                # This will always execute\n",
        "```"
      ],
      "metadata": {
        "id": "6IYdeXBuCGq2"
      }
    },
    {
      "cell_type": "markdown",
      "source": [
        "**Q4. What is logging in Python?**\n"
      ],
      "metadata": {
        "id": "Ta9uleceMoxG"
      }
    },
    {
      "cell_type": "markdown",
      "source": [
        "Ans:- In Python, logging is the process of recording information about a program’s execution to help with debugging, monitoring, and troubleshooting.\n",
        "\n",
        "The built-in logging module in Python provides a flexible way to report events such as:\n",
        "* Errors\n",
        "* Warnings\n",
        "* Information about program flow\n",
        "* Debugging details\n",
        "\n",
        "Instead of using print(), which is temporary and not configurable, logging allows you to generate logs with different severity levels, format them, and store them in files or other outputs.\n",
        "\n",
        "Logging Levels\n",
        "\n",
        "The logging module defines standard levels of severity:\n",
        "* DEBUG – Detailed information, mainly for developers.\n",
        "* INFO – Confirmation that things are working as expected.\n",
        "* WARNING – An indication that something unexpected happened (but the program still works).\n",
        "* ERROR – A more serious problem; the program couldn’t perform some function.\n",
        "* CRITICAL – A very serious error; the program itself may be unable to continue.\n",
        "```\n",
        "import logging\n",
        "\n",
        "# Configure logging\n",
        "logging.basicConfig(level=logging.DEBUG, format='%(levelname)s: %(message)s')\n",
        "\n",
        "logging.debug(\"This is a debug message\")\n",
        "logging.info(\"This is an info message\")\n",
        "logging.warning(\"This is a warning\")\n",
        "logging.error(\"This is an error\")\n",
        "logging.critical(\"This is critical\")\n",
        "\n",
        "#output\n",
        "DEBUG: This is a debug message\n",
        "INFO: This is an info message\n",
        "WARNING: This is a warning\n",
        "ERROR: This is an error\n",
        "CRITICAL: This is critical\n",
        "```\n"
      ],
      "metadata": {
        "id": "0765N7OfMw7c"
      }
    },
    {
      "cell_type": "markdown",
      "source": [
        "**Q5. What is the significance of the __del__ method in Python?**\n"
      ],
      "metadata": {
        "id": "aq_TpgQCOQ03"
      }
    },
    {
      "cell_type": "markdown",
      "source": [
        "Ans:- The __del__ method in Python is known as a destructor.\n",
        "\n",
        "Its significance lies in the fact that it is automatically called when an object is about to be destroyed (garbage collected). It allows you to define cleanup actions that should be performed before the object’s memory is released.\n",
        "\n",
        "Example\n",
        "```\n",
        "class FileHandler:\n",
        "    def __init__(self, filename):\n",
        "        self.file = open(filename, \"w\")\n",
        "        print(\"File opened.\")\n",
        "\n",
        "    def write_data(self, data):\n",
        "        self.file.write(data)\n",
        "\n",
        "    def __del__(self):\n",
        "        print(\"Destructor called, file closed.\")\n",
        "        self.file.close()\n",
        "\n",
        "# Usage\n",
        "handler = FileHandler(\"example.txt\")\n",
        "handler.write_data(\"Hello, Python!\")\n",
        "del handler   # Forces destructor call (if no other references exist)\n",
        "#Output\n",
        "File opened.\n",
        "Destructor called, file closed.\n",
        "```"
      ],
      "metadata": {
        "id": "crBvlPj6OdRf"
      }
    },
    {
      "cell_type": "markdown",
      "source": [
        "**Q6. What is the difference between import and from ... import in Python?**"
      ],
      "metadata": {
        "id": "VbNDtV6QPMyb"
      }
    },
    {
      "cell_type": "markdown",
      "source": [
        "Ans:- In Python, both import and from ... import are used for the inclusion of modules or objects from modules, but they are used in different ways.\n",
        "\n",
        "**1**. import statement\n",
        "* The whole module is imported when this statement is used.\n",
        "* The module name must be used for accessing its functions, classes, or variables.\n",
        "\n",
        "Example:\n",
        "```\n",
        "import math\n",
        "\n",
        "print(math.sqrt(16))   # Accessed using module name\n",
        "print(math.pi)         # Accessed using module name\n",
        "```\n",
        "\n",
        "* An advantage is that the namespace is kept clean (everything is accessed with module.).\n",
        "* A disadvantage is that longer names are required.\n",
        "\n",
        "**2**. from ... import statement\n",
        "* Only specific functions, classes, or variables are imported from a module.\n",
        "* They can be used directly without prefixing the module name.\n",
        "\n",
        "Example:\n",
        "```\n",
        "from math import sqrt, pi\n",
        "\n",
        "print(sqrt(16))   # Accessed directly\n",
        "print(pi)         # Accessed directly\n",
        "```\n",
        "* An advantage is that usage is made easier and shorter.\n",
        "* A disadvantage is that naming conflicts may be caused if different modules have functions or variables with the same name.\n"
      ],
      "metadata": {
        "id": "Doe2RWcCPTT_"
      }
    },
    {
      "cell_type": "markdown",
      "source": [
        "**Q7. How can you handle multiple exceptions in Python?**"
      ],
      "metadata": {
        "id": "87V2PDBNQVKE"
      }
    },
    {
      "cell_type": "markdown",
      "source": [
        "Ans:- Handling Multiple Exceptions in Python\n",
        "\n",
        "In Python, multiple exceptions can be handled using different approaches, depending on how specific or general the handling needs to be.\n",
        "\n",
        "**1**. Using Multiple except Blocks\n",
        "\n",
        "Each exception type can be caught separately with its own except block.\n",
        "```\n",
        "try:\n",
        "    num = int(\"abc\")   # ValueError\n",
        "    result = 10 / 0    # ZeroDivisionError\n",
        "except ValueError:\n",
        "    print(\"ValueError occurred\")\n",
        "except ZeroDivisionError:\n",
        "    print(\"ZeroDivisionError occurred\")\n",
        "```\n",
        "* This way, different actions can be taken for different exceptions.\n",
        "\n",
        "**2**. Handling Multiple Exceptions in a Single Block\n",
        "* A tuple of exceptions can be provided in one except block.\n",
        "```\n",
        "try:\n",
        "    num = int(\"abc\")\n",
        "except (ValueError, TypeError) as e:\n",
        "    print(f\"Exception occurred: {e}\")\n",
        "```\n",
        "* This is useful when the same action is needed for multiple exceptions.\n",
        "\n",
        "**3**. Catching All Exceptions (Generic Handling)\n",
        "\n",
        "The base class Exception can be used to handle any type of exception.\n",
        "```\n",
        "try:\n",
        "    result = 10 / 0\n",
        "except Exception as e:\n",
        "    print(f\"An error occurred: {e}\")\n",
        "```\n",
        "This method should be used with caution, because it hides the specific error type."
      ],
      "metadata": {
        "id": "wOGSE6GXQcMe"
      }
    },
    {
      "cell_type": "markdown",
      "source": [
        "**Q8. What is the purpose of the with statement when handling files in Python?**"
      ],
      "metadata": {
        "id": "jlCdE8kpRDCG"
      }
    },
    {
      "cell_type": "markdown",
      "source": [
        "Ans:- The purpose of the with statement in Python, when handling files, is to ensure that files are opened, used, and then properly closed automatically, even if an error occurs during file operations.\n",
        "* When a file is opened using with, a context manager is created.\n",
        "* Once the block of code inside with finishes execution, the file is closed automatically, without needing an explicit file.close().\n",
        "\n",
        "This makes the code cleaner, safer, and less error-prone.\n",
        "\n",
        "Example without with\n",
        "```\n",
        "file = open(\"example.txt\", \"w\")\n",
        "file.write(\"Hello, Python!\")\n",
        "file.close()   # Must be called explicitly\n",
        "```\n",
        "If an exception occurs before file.close(), the file may remain open.\n",
        "\n",
        "Example with with\n",
        "```\n",
        "with open(\"example.txt\", \"w\") as file:\n",
        "    file.write(\"Hello, Python!\")\n",
        "# File is closed automatically here\n",
        "```\n",
        "--->> No need for file.close(), as cleanup is handled automatically."
      ],
      "metadata": {
        "id": "RcRZPId2RV9i"
      }
    },
    {
      "cell_type": "markdown",
      "source": [
        "**Q9. What is the difference between multithreading and multiprocessing?**"
      ],
      "metadata": {
        "id": "DoqrHj9vRt1X"
      }
    },
    {
      "cell_type": "markdown",
      "source": [
        "Ans:- 1. Multithreading\n",
        "\n",
        "* Definition: Multiple threads are executed within the same process.\n",
        "* Shared Memory: All threads share the same memory space of the process.\n",
        "* Use Case: Best for I/O-bound tasks (e.g., file handling, network requests) where waiting is more than computing.\n",
        "* Limitation: In Python, due to the Global Interpreter Lock (GIL), only one thread executes Python bytecode at a time. So, true parallel execution of CPU tasks is limited.\n",
        "\n",
        "Example:\n",
        "```\n",
        "import threading\n",
        "\n",
        "def task():\n",
        "    print(\"Task executed by thread\")\n",
        "\n",
        "t1 = threading.Thread(target=task)\n",
        "t2 = threading.Thread(target=task)\n",
        "\n",
        "t1.start()\n",
        "t2.start()\n",
        "```\n",
        "2. Multiprocessing\n",
        "* Definition: Multiple processes are executed, each with its own Python interpreter and memory space.\n",
        "* Separate Memory: Processes do not share memory; communication is done via pipes, queues, etc.\n",
        "* Use Case: Best for CPU-bound tasks (e.g., calculations, data processing) where heavy computation is needed.\n",
        "* Advantage: Avoids the GIL, allowing true parallelism.\n",
        "\n",
        "Example:\n",
        "```\n",
        "import multiprocessing\n",
        "\n",
        "def task():\n",
        "    print(\"Task executed by process\")\n",
        "\n",
        "p1 = multiprocessing.Process(target=task)\n",
        "p2 = multiprocessing.Process(target=task)\n",
        "\n",
        "p1.start()\n",
        "p2.start()\n",
        "```"
      ],
      "metadata": {
        "id": "TfAEgC_mR-32"
      }
    },
    {
      "cell_type": "markdown",
      "source": [
        "**Q10. What are the advantages of using logging in a program?**"
      ],
      "metadata": {
        "id": "rBvJUAxkS17Z"
      }
    },
    {
      "cell_type": "markdown",
      "source": [
        "Ans:- Advantages of Logging\n",
        "1. Better than print statements\n",
        "* Logging provides structured, configurable output, while print() is temporary and not suitable for production.\n",
        "2. Different severity levels\n",
        "* With levels like DEBUG, INFO, WARNING, ERROR, and CRITICAL, logs can be categorized based on importance.\n",
        "3. Easier debugging\n",
        "* Detailed logs help trace the flow of a program and locate issues quickly.\n",
        "4. Persistent record\n",
        "* Logs can be stored in files or databases, allowing issues to be analyzed later.\n",
        "5. Configurable output\n",
        "* Logs can be directed to the console, files, syslog, or even remote servers.\n",
        "6. Non-intrusive\n",
        "* Unlike print(), logging doesn’t clutter the main code logic. It can be easily turned on/off or adjusted without changing the core program.\n",
        "7. Helpful in production\n",
        "* In real-world applications, debugging with print() is impractical, but logging provides ongoing monitoring and error reporting.\n",
        "8. Supports formatting and timestamps\n",
        "* Logs can include details like time, function name, and line number, which improves traceability."
      ],
      "metadata": {
        "id": "UPFYD2cWS7VS"
      }
    },
    {
      "cell_type": "markdown",
      "source": [
        "**Q11. What is memory management in Python?**"
      ],
      "metadata": {
        "id": "1ZjGb9J1TlV6"
      }
    },
    {
      "cell_type": "markdown",
      "source": [
        "Ans:- Memory management in Python refers to the process of efficiently allocating and deallocating memory to objects during program execution. It ensures that memory is used properly and unused memory is reclaimed automatically.\n",
        "\n",
        "Key Features of Memory Management in Python\n",
        "1. Automatic Memory Allocation\n",
        "* When variables, objects, or data structures are created, memory is automatically allocated by the Python memory manager.\n",
        "2. Garbage Collection\n",
        "* Unused objects (those with no references) are automatically cleared from memory by the garbage collector, which is based on reference counting and a cyclic garbage collector.\n",
        "3. Private Heap Space\n",
        "* All objects and data structures are stored in a private heap, which is managed internally by Python. Programmers don’t access it directly.\n",
        "4. Dynamic Typing\n",
        "* Memory is managed dynamically because Python is dynamically typed (no need to declare variable types beforehand).\n",
        "5. Memory Pools\n",
        "* To improve efficiency, Python uses memory pools (via a system called pymalloc) for allocating small objects, which reduces the overhead of frequent system calls.\n",
        "\n",
        "Example of Garbage Collection\n",
        "```\n",
        "import gc\n",
        "\n",
        "# Force garbage collection manually\n",
        "gc.collect()\n",
        "```\n",
        "Usually, this is not needed, since garbage collection is automatic."
      ],
      "metadata": {
        "id": "EAGQ3fkxTsg1"
      }
    },
    {
      "cell_type": "markdown",
      "source": [
        "**Q12. What are the basic steps involved in exception handling in Python?**"
      ],
      "metadata": {
        "id": "W9fiRdmlUasq"
      }
    },
    {
      "cell_type": "markdown",
      "source": [
        "Ans:- *Basic Steps in Exception Handling in Python*\n",
        "\n",
        "Exception handling in Python is done using the try-except mechanism (with optional else and finally blocks). The steps are as follows:\n",
        "\n",
        "1. Code that may raise an exception is placed inside a try block\n",
        "* The risky or error-prone code is written here.\n",
        "```\n",
        "try:\n",
        "    result = 10 / 0   # Risky operation\n",
        "```\n",
        "2. The exception is caught using one or more except blocks\n",
        "* If an exception occurs, control is passed to the appropriate except block.\n",
        "```\n",
        "except ZeroDivisionError:\n",
        "    print(\"Division by zero is not allowed\")\n",
        "```\n",
        "3. (Optional) Code to execute when no exception occurs is placed in an else block\n",
        "* Runs only if the try block completes successfully (no exception raised).\n",
        "```\n",
        "else:\n",
        "    print(\"Division successful, result is:\", result)\n",
        "```\n",
        "4. (Optional) Cleanup code is placed in a finally block\n",
        "* Runs regardless of whether an exception occurred or not (e.g., closing files, releasing resources).\n",
        "```\n",
        "finally:\n",
        "    print(\"Execution finished\")\n",
        "```\n",
        "\n",
        "Example with all steps\n",
        "```\n",
        "try:\n",
        "    num = int(\"10\")\n",
        "    result = 10 / num\n",
        "except ValueError:\n",
        "    print(\"Invalid number\")\n",
        "except ZeroDivisionError:\n",
        "    print(\"Division by zero error\")\n",
        "else:\n",
        "    print(\"Division successful:\", result)\n",
        "finally:\n",
        "    print(\"Program ended\")\n",
        "```"
      ],
      "metadata": {
        "id": "xNZeUum9UknN"
      }
    },
    {
      "cell_type": "markdown",
      "source": [
        "**Q13. Why is memory management important in Python?**"
      ],
      "metadata": {
        "id": "olAqWkCtVKAd"
      }
    },
    {
      "cell_type": "markdown",
      "source": [
        "Ans:- Memory management is considered important in Python because it ensures that programs run efficiently and resources are not wasted. The reasons for its importance are:\n",
        "\n",
        "1. Efficient Resource Utilization\n",
        "* Memory is allocated and freed automatically, so resources are used effectively without manual intervention.\n",
        "\n",
        "2. Avoidance of Memory Leaks\n",
        "* Unused objects are removed by the garbage collector, preventing unnecessary memory consumption.\n",
        "\n",
        "3. Improved Performance\n",
        "* Proper management of memory ensures that programs execute faster, since unused memory is reclaimed and reused.\n",
        "\n",
        "4. Programmer Convenience\n",
        "* Developers are freed from manual memory allocation and deallocation, making coding easier and less error-prone.\n",
        "\n",
        "5. Safety and Stability\n",
        "* The risk of crashes due to dangling pointers or unfreed memory (common in lower-level languages like C) is minimized.\n",
        "\n",
        "6. Scalability of Applications\n",
        "* Applications that process large datasets or run continuously (like servers) benefit from efficient memory handling, ensuring smooth performance over time."
      ],
      "metadata": {
        "id": "vERr6fKlVe45"
      }
    },
    {
      "cell_type": "markdown",
      "source": [
        "**Q14. What is the role of try and except in exception handling?**"
      ],
      "metadata": {
        "id": "K2bLrOfmVwp4"
      }
    },
    {
      "cell_type": "markdown",
      "source": [
        "Ans:-\n",
        "In Python, try and except are the core components of exception handling. Their role is to ensure that errors are managed gracefully without crashing the program.\n",
        "1. Role of try block\n",
        "* The try block is used to wrap the code that might raise an exception.\n",
        "* Any statement inside try is monitored for errors.\n",
        "* If no exception occurs, the try block executes normally and control skips the except block.\n",
        "* If an exception occurs, execution is immediately stopped at the point of error, and Python looks for a matching except block.\n",
        "\n",
        "Example:\n",
        "```\n",
        "try:\n",
        "    num = int(\"abc\")   # Risky code\n",
        "```\n",
        "2. Role of except block\n",
        "* The except block is used to catch and handle the exception that occurs in the try block.\n",
        "* Different exception types can be handled using multiple except blocks.\n",
        "* This prevents the program from terminating abruptly.\n",
        "\n",
        "Example:\n",
        "```\n",
        "except ValueError:\n",
        "    print(\"Invalid input! Could not convert to integer.\")\n",
        "```\n",
        "\n",
        "Full Example\n",
        "```\n",
        "try:\n",
        "    x = int(\"abc\")     # Error occurs here\n",
        "except ValueError:\n",
        "    print(\"A ValueError was handled\")\n",
        "#Output:\n",
        "A ValueError was handled\n",
        "```"
      ],
      "metadata": {
        "id": "8ZZlVGuzV6Zx"
      }
    },
    {
      "cell_type": "markdown",
      "source": [
        "**15. How does Python's garbage collection system work?**"
      ],
      "metadata": {
        "id": "Q6cxl2HrWgC6"
      }
    },
    {
      "cell_type": "markdown",
      "source": [
        "Ans:- Python uses automatic garbage collection to manage memory. Its purpose is to free up memory occupied by objects that are no longer needed, so resources are used efficiently.\n",
        "\n",
        "1. Reference Counting (Primary Mechanism)\n",
        "* Each object in Python has a reference count (the number of variables pointing to it).\n",
        "* When a new reference is created, the count increases.\n",
        "* When a reference is deleted (or goes out of scope), the count decreases.\n",
        "* When the count becomes zero, the object is immediately deallocated.\n",
        "\n",
        "Example:\n",
        "```\n",
        "import sys\n",
        "\n",
        "x = [1, 2, 3]\n",
        "print(sys.getrefcount(x))   # Shows reference count\n",
        "```\n",
        "2. Cyclic Garbage Collector (for Reference Cycles)\n",
        "* Sometimes, objects may reference each other, creating a cycle (e.g., A → B → A).\n",
        "* In such cases, reference counting alone cannot clean them up, because the count never reaches zero.\n",
        "* Python’s cyclic garbage collector (part of the gc module) detects and collects these unused cycles.\n",
        "\n",
        "Example of a cycle:\n",
        "```\n",
        "import gc\n",
        "\n",
        "class Node:\n",
        "    def __init__(self):\n",
        "        self.ref = None\n",
        "\n",
        "a = Node()\n",
        "b = Node()\n",
        "a.ref = b\n",
        "b.ref = a        # Creates a cycle\n",
        "\n",
        "del a, b         # Objects still exist in memory without gc\n",
        "gc.collect()     # Garbage collector removes the cycle\n",
        "```\n",
        "3. Generational Garbage Collection\n",
        "* Objects are divided into generations based on how long they’ve been in memory.\n",
        "* New objects start in Generation 0.\n",
        "* If they survive garbage collection, they move to Generation 1, and then Generation 2.\n",
        "* Older generations are collected less frequently, since long-lived objects are less likely to become garbage.\n",
        "\n",
        "4. Manual Control (Optional)\n",
        "* Although garbage collection is automatic, developers can interact with it using the gc module:\n",
        "```\n",
        "import gc\n",
        "\n",
        "gc.collect()         # Forces garbage collection\n",
        "gc.disable()         # Disables garbage collector\n",
        "gc.enable()          # Enables it again\n",
        "```"
      ],
      "metadata": {
        "id": "X0-jAM7BWn81"
      }
    },
    {
      "cell_type": "markdown",
      "source": [
        "**Q16. What is the purpose of the else block in exception handling?**"
      ],
      "metadata": {
        "id": "R9tNaEFwXoY9"
      }
    },
    {
      "cell_type": "markdown",
      "source": [
        "Ans:- In Python, the else block in exception handling is used to define code that should run only if no exception occurs in the try block.\n",
        "1. The else block is placed after all except blocks.\n",
        "2. Code inside the else block is skipped if an exception is raised.\n",
        "3. It is mainly used for code that should execute only when the try block succeeds completely.\n",
        "4. It helps in separating error-handling code (except) from normal execution code (else).\n",
        "\n",
        "Example\n",
        "```\n",
        "try:\n",
        "    num = int(\"10\")   # No exception here\n",
        "except ValueError:\n",
        "    print(\"Invalid input\")\n",
        "else:\n",
        "    print(\"Conversion successful:\", num)\n",
        "\n",
        "#Output:\n",
        "Conversion successful: 10\n",
        "```"
      ],
      "metadata": {
        "id": "lanumahKXuxc"
      }
    },
    {
      "cell_type": "markdown",
      "source": [
        "**Q17. What are the common logging levels in Python?**"
      ],
      "metadata": {
        "id": "y44H9i4mYGU4"
      }
    },
    {
      "cell_type": "markdown",
      "source": [
        "Ans:- The Python logging module provides several standard levels to indicate the severity of log messages. These levels help categorize logs and control what gets recorded.\n",
        "1. DEBUG (Level: 10)\n",
        "* Used for detailed information helpful in diagnosing problems.\n",
        "* Typically used during development.\n",
        "\n",
        "Example:\n",
        "```\n",
        "logging.debug(\"This is a debug message\")\n",
        "```\n",
        "2. INFO (Level: 20)\n",
        "* Used to confirm that things are working as expected.\n",
        "* Represents general information about program execution.\n",
        "\n",
        "Example:\n",
        "```\n",
        "logging.info(\"This is an info message\")\n",
        "```\n",
        "3. WARNING (Level: 30)\n",
        "* Indicates something unexpected happened, or a potential problem was detected.\n",
        "* The program still runs.\n",
        "\n",
        "Example:\n",
        "```\n",
        "logging.warning(\"This is a warning message\")\n",
        "```\n",
        "4. ERROR (Level: 40)\n",
        "* Used when a serious issue occurs and some part of the program cannot run.\n",
        "\n",
        "Example:\n",
        "```\n",
        "logging.error(\"This is an error message\")\n",
        "```\n",
        "5. CRITICAL (Level: 50)\n",
        "* Indicates a very severe error that may prevent the program from continuing.\n",
        "\n",
        "Example:\n",
        "```\n",
        "logging.critical(\"This is a critical message\")\n",
        "```"
      ],
      "metadata": {
        "id": "g0g9mnRUYQbY"
      }
    },
    {
      "cell_type": "markdown",
      "source": [
        "**Q18. What is the difference between os.fork() and multiprocessing in Python?**"
      ],
      "metadata": {
        "id": "P25pzxBXY3H9"
      }
    },
    {
      "cell_type": "markdown",
      "source": [
        "Ans:- 1. os.fork()\n",
        "* In Python, the os.fork() function is provided as a system call on Unix-like operating systems.\n",
        "* A new child process is created by duplicating the current process when it is invoked.\n",
        "* In the parent process, the child’s process ID is returned, whereas in the child process, 0 is returned.\n",
        "* Manual handling of inter-process communication (IPC), synchronization, and resource sharing is required by the programmer.\n",
        "* Its usage is limited to Unix/Linux systems, since it is not supported on Windows.\n",
        "\n",
        "2. multiprocessing Module\n",
        "* In Python, a high-level interface for process creation and management is provided by the multiprocessing module.\n",
        "* Processes are created in a platform-independent manner, as fork is used internally on Unix systems and spawn is used on Windows.\n",
        "* Built-in support is provided for IPC (via queues and pipes), synchronization (via locks and events), and shared memory.\n",
        "* Parallel execution of CPU-bound tasks is made easier, since most complexities of process management are abstracted.\n",
        "* Cross-platform support is ensured, allowing code to run on Linux, macOS, and Windows.\n",
        "```\n",
        "from multiprocessing import Process\n",
        "\n",
        "def worker():\n",
        "    print(\"Process executed\")\n",
        "\n",
        "p = Process(target=worker)\n",
        "p.start()\n",
        "p.join()\n",
        "```"
      ],
      "metadata": {
        "id": "3QSCZ7GtY9XL"
      }
    },
    {
      "cell_type": "markdown",
      "source": [
        "**Q19.  What is the importance of closing a file in Python?**"
      ],
      "metadata": {
        "id": "tPJkQ-URaRdE"
      }
    },
    {
      "cell_type": "markdown",
      "source": [
        "Ans:- Importance of Closing a File in Python\n",
        "\n",
        "In Python, once operations on a file are completed, the file is expected to be closed by using the close() method or automatically through a with statement.\n",
        "\n",
        "When a file is closed, resources that were allocated by the operating system (such as memory buffers and file handles) are released.\n",
        "\n",
        "Data that might still be stored in the buffer is flushed to the file, ensuring that no data loss occurs.\n",
        "\n",
        "Potential issues such as file corruption, incomplete writes, or locked resources are avoided when files are properly closed.\n",
        "\n",
        "Proper file handling is encouraged by using the with statement, since the file is guaranteed to be closed automatically, even if an exception occurs."
      ],
      "metadata": {
        "id": "4jRYnDyUaW13"
      }
    },
    {
      "cell_type": "markdown",
      "source": [
        "**Q20. What is the difference between file.read() and file.readline() in Python?**"
      ],
      "metadata": {
        "id": "MFOltWeQagP5"
      }
    },
    {
      "cell_type": "markdown",
      "source": [
        "Ans:- 1. file.read()\n",
        "* The entire content of the file (or a specified number of characters/bytes if an argument is given) is read at once when file.read() is called.\n",
        "* The content is returned as a single string.\n",
        "* If no argument is passed, the whole file is read until the end.\n",
        "* Large files may cause high memory usage if read fully.\n",
        "\n",
        "Example:\n",
        "```\n",
        "with open(\"example.txt\", \"r\") as f:\n",
        "    data = f.read()   # The entire file is read\n",
        "```\n",
        "2. file.readline()\n",
        "* A single line from the file is read each time file.readline() is called.\n",
        "* The newline character \\n at the end of the line is included in the returned string.\n",
        "* When called repeatedly, the file is read line by line until the end is reached.\n",
        "* Memory efficiency is improved compared to file.read(), especially for large files.\n",
        "\n",
        "Example:\n",
        "```\n",
        "with open(\"example.txt\", \"r\") as f:\n",
        "    line1 = f.readline()   # The first line is read\n",
        "    line2 = f.readline()   # The second line is read\n",
        "```"
      ],
      "metadata": {
        "id": "mL_I9Vrias_P"
      }
    },
    {
      "cell_type": "markdown",
      "source": [
        "**Q21. What is the logging module in Python used for?**"
      ],
      "metadata": {
        "id": "fR0GNQ_za7ub"
      }
    },
    {
      "cell_type": "markdown",
      "source": [
        "Ans:- The logging module in Python is used for tracking and recording events that happen during the execution of a program. It allows developers to output messages to various destinations (console, files, network, etc.) to help with debugging, monitoring, or auditing.\n",
        "\n",
        "1. Purpose:\n",
        "* To record runtime information about a program.\n",
        "* To help diagnose issues and understand program flow.\n",
        "* To provide a standardized way of reporting messages instead of using print() statements.\n",
        "\n",
        "2. Logging Levels:\n",
        "* Messages can be categorized by severity, which allows filtering. Common levels include:\n",
        "  * DEBUG – Detailed information, useful during development.\n",
        "  * INFO – Confirmation that things are working as expected.\n",
        "  * WARNING – An indication of a potential problem.\n",
        "  * ERROR – A more serious problem that prevents some functionality.\n",
        "  * CRITICAL – A very serious error that may prevent the program from continuing.\n",
        "\n",
        "3. Flexibility:\n",
        "* Logs can be directed to different outputs: console, files, HTTP servers, or custom destinations.\n",
        "* Format of log messages (timestamp, level, message) can be customized.\n",
        "\n",
        "Example Usage:\n",
        "```\n",
        "import logging\n",
        "\n",
        "# Basic configuration\n",
        "logging.basicConfig(level=logging.INFO, format='%(levelname)s:%(message)s')\n",
        "\n",
        "logging.debug(\"This is a debug message\")\n",
        "logging.info(\"Program started successfully\")\n",
        "logging.warning(\"This is a warning\")\n",
        "logging.error(\"An error occurred\")\n",
        "logging.critical(\"Critical issue! Program may stop\")\n",
        "```"
      ],
      "metadata": {
        "id": "g5R8uANYbCnK"
      }
    },
    {
      "cell_type": "markdown",
      "source": [
        "**Q22.  What is the os module in Python used for in file handling?**"
      ],
      "metadata": {
        "id": "1hvLH4xYblM7"
      }
    },
    {
      "cell_type": "markdown",
      "source": [
        "Ans:- The os module in Python is used for interacting with the operating system, and in the context of file handling, it provides a set of functions to perform operations on files and directories beyond basic reading and writing.\n",
        "\n",
        "1. File and Directory Operations:\n",
        "* os.mkdir(path) → Creates a new directory.\n",
        "* os.makedirs(path) → Creates nested directories.\n",
        "* os.rmdir(path) → Removes an empty directory.\n",
        "* os.remove(path) → Deletes a file.\n",
        "* os.rename(src, dst) → Renames a file or directory.\n",
        "* os.listdir(path) → Lists all files and directories in a given path.\n",
        "\n",
        "2. Path Operations:\n",
        "* os.path.exists(path) → Checks if a file or directory exists.\n",
        "* os.path.isfile(path) → Checks if a path is a file.\n",
        "* os.path.isdir(path) → Checks if a path is a directory.\n",
        "* os.path.join(path1, path2, …) → Joins paths in a platform-independent way.\n",
        "\n",
        "3. Current Working Directory:\n",
        "* os.getcwd() → Gets the current working directory.\n",
        "* os.chdir(path) → Changes the current working directory.\n",
        "\n",
        "4. Permissions and Metadata:\n",
        "* os.stat(path) → Retrieves information about a file (size, modification time, etc.).\n",
        "* os.chmod(path, mode) → Changes file permissions.\n",
        "\n",
        "Example Usage:\n",
        "```\n",
        "import os\n",
        "\n",
        "# Create a directory\n",
        "os.mkdir(\"test_folder\")\n",
        "\n",
        "# Check if a file exists\n",
        "if not os.path.exists(\"test_folder/sample.txt\"):\n",
        "    # Create a file inside the directory\n",
        "    with open(\"test_folder/sample.txt\", \"w\") as file:\n",
        "        file.write(\"Hello, Python!\")\n",
        "\n",
        "# List all files in the directory\n",
        "print(os.listdir(\"test_folder\"))\n",
        "\n",
        "# Rename the file\n",
        "os.rename(\"test_folder/sample.txt\", \"test_folder/demo.txt\")\n",
        "\n",
        "# Delete the file\n",
        "os.remove(\"test_folder/demo.txt\")\n",
        "\n",
        "# Remove the directory\n",
        "os.rmdir(\"test_folder\")\n",
        "```"
      ],
      "metadata": {
        "id": "klbD5bFTbqZa"
      }
    },
    {
      "cell_type": "markdown",
      "source": [
        "**Q23. What are the challenges associated with memory management in Python?**"
      ],
      "metadata": {
        "id": "1_gxyTcZcXLo"
      }
    },
    {
      "cell_type": "markdown",
      "source": [
        "Ans:- Memory management in Python is mostly handled automatically through reference counting and garbage collection, but several challenges still exist:\n",
        "\n",
        "1. Memory Leaks\n",
        "* Even though Python has garbage collection, memory leaks can occur if references to objects are unintentionally maintained, preventing their memory from being freed.\n",
        "* Example: Keeping large objects in global lists or dictionaries accidentally.\n",
        "\n",
        "2. Circular References\n",
        "* Python’s reference counting cannot handle circular references (e.g., A references B and B references A).\n",
        "* The garbage collector addresses this, but it adds overhead and may not always immediately free memory.\n",
        "\n",
        "3. High Memory Consumption\n",
        "* Objects in Python have extra overhead (metadata, dynamic typing info).\n",
        "* Programs handling large datasets may consume more memory than equivalent programs in languages like C or Java.\n",
        "\n",
        "4. Fragmentation\n",
        "* Frequent creation and deletion of objects can lead to memory fragmentation, reducing memory efficiency.\n",
        "* Python’s memory allocator tries to mitigate this, but fragmentation is still possible for long-running programs.\n",
        "\n",
        "5. Delayed Garbage Collection\n",
        "* Garbage collection may not occur immediately, causing memory to be temporarily unavailable for new objects.\n",
        "* This can affect performance in real-time or memory-constrained applications.\n",
        "\n",
        "6. Uncontrolled Resource Usage\n",
        "* Objects holding external resources (like files, network sockets, or database connections) require manual cleanup.\n",
        "* Relying solely on Python’s memory management may cause resource leaks even if memory is freed."
      ],
      "metadata": {
        "id": "edMl8wsEccMT"
      }
    },
    {
      "cell_type": "markdown",
      "source": [
        "**Q24. How do you raise an exception manually in Python?**"
      ],
      "metadata": {
        "id": "VVdsY41yc0en"
      }
    },
    {
      "cell_type": "markdown",
      "source": [
        "Ans:- In Python, an exception can be raised manually using the raise statement. This allows you to trigger an error intentionally when a certain condition occurs in your code.\n",
        "\n",
        "Syntax:\n",
        "```\n",
        "raise ExceptionType(\"Optional error message\")\n",
        "```\n",
        "\n",
        "ExceptionType: The type of exception you want to raise (e.g., ValueError, TypeError, CustomException).\n",
        "\n",
        "Message: Optional string describing the error.\n",
        "\n",
        "Example 1: Raising a built-in exception\n",
        "```\n",
        "age = -5\n",
        "\n",
        "if age < 0:\n",
        "    raise ValueError(\"Age cannot be negative\")\n",
        "\n",
        "Output:\n",
        "ValueError: Age cannot be negative\n",
        "```\n",
        "Example 2: Raising a custom exception\n",
        "```\n",
        "class CustomError(Exception):\n",
        "    pass\n",
        "\n",
        "x = 10\n",
        "if x > 5:\n",
        "    raise CustomError(\"x should not be greater than 5\")\n",
        "\n",
        "Output:\n",
        "CustomError: x should not be greater than 5\n",
        "```\n",
        "Key Points\n",
        "* raise stops the normal flow of the program and propagates the exception.\n",
        "* It can be used inside functions or loops to enforce conditions.\n",
        "* Can be used with try-except blocks to re-raise an exception for further handling:\n",
        "```\n",
        "try:\n",
        "    raise ValueError(\"Something went wrong\")\n",
        "except ValueError as e:\n",
        "    print(f\"Caught an error: {e}\")\n",
        "    raise  # re-raises the same exception\n",
        "```"
      ],
      "metadata": {
        "id": "ieEfPiZ7dAv-"
      }
    },
    {
      "cell_type": "markdown",
      "source": [
        "**Q25. Why is it important to use multithreading in certain applications?**"
      ],
      "metadata": {
        "id": "aZj_F5HMdb1M"
      }
    },
    {
      "cell_type": "markdown",
      "source": [
        "Ans: - Multithreading is important in certain applications because it allows a program to perform multiple tasks concurrently, improving efficiency and responsiveness. Here’s a detailed breakdown:\n",
        "\n",
        "1. Improved Performance in I/O-Bound Tasks\n",
        "* In applications that spend a lot of time waiting for I/O operations (like reading files, network requests, or database queries), multithreading allows other threads to run while one is waiting.\n",
        "\n",
        "Example: A web server can handle multiple client requests simultaneously without waiting for each request to finish.\n",
        "\n",
        "2. Responsiveness in User Interfaces\n",
        "* In GUI applications, long-running tasks (like downloading a file) can freeze the interface if executed on the main thread.\n",
        "* By using threads, the main interface remains responsive while background tasks execute.\n",
        "\n",
        "3. Parallelism in Lightweight Tasks\n",
        "* While Python’s Global Interpreter Lock (GIL) limits CPU-bound parallelism in threads, I/O-bound or network-bound tasks benefit significantly from multithreading.\n",
        "\n",
        "  * Example: Multiple sensors sending data simultaneously can be handled using threads.\n",
        "\n",
        "4. Resource Sharing\n",
        "* Threads share the same memory space, making it easier to share data compared to separate processes.\n",
        "\n",
        "  * Example: Multiple threads updating a shared cache or configuration without complex inter-process communication.\n",
        "\n",
        "5. Better Utilization of System Resources\n",
        "* Threads can run concurrently on multiple cores (for some tasks using C extensions or in I/O-bound scenarios), reducing idle time.\n",
        "\n",
        "  * Example: Downloading multiple files at the same time instead of sequentially.\n",
        "\n",
        "Key Considerations\n",
        "* Not ideal for CPU-bound tasks in Python due to GIL; multiprocessing may be better.\n",
        "* Thread-safety issues can arise when multiple threads access shared data without synchronization.\n",
        "* Requires careful use of locks, semaphores, or queues to avoid race conditions."
      ],
      "metadata": {
        "id": "eaLBokJudiGP"
      }
    },
    {
      "cell_type": "markdown",
      "source": [
        "**# Practical Question**"
      ],
      "metadata": {
        "id": "fA69et1Ap4r5"
      }
    },
    {
      "cell_type": "markdown",
      "source": [
        "**Q1. How can you open a file for writing in Python and write a string to it?**\n"
      ],
      "metadata": {
        "id": "-c_W4CHkqD5o"
      }
    },
    {
      "cell_type": "code",
      "source": [
        "file = open(\"filename.txt\", \"w\")\n",
        "file.write(\"Your string here\")\n",
        "file.close()\n"
      ],
      "metadata": {
        "id": "AYRBIhkgqnnE"
      },
      "execution_count": null,
      "outputs": []
    },
    {
      "cell_type": "markdown",
      "source": [
        "**Q2. Write a Python program to read the contents of a file and print each line??**"
      ],
      "metadata": {
        "id": "sIZjfJmDqyIl"
      }
    },
    {
      "cell_type": "code",
      "source": [
        "with open(\"example.txt\", \"w\") as file:\n",
        "    file.write(\"This is the first line.\\n\")\n",
        "    file.write(\"This is the second line.\\n\")\n",
        "    file.write(\"And this is the third line.\\n\")\n",
        "with open(\"example.txt\", \"r\") as file:\n",
        "    for line in file:\n",
        "        print(line.strip())\n"
      ],
      "metadata": {
        "colab": {
          "base_uri": "https://localhost:8080/"
        },
        "id": "pWzVcOHOq8cl",
        "outputId": "b45a03b1-d65b-4566-9dd6-cc456df040b4"
      },
      "execution_count": 2,
      "outputs": [
        {
          "output_type": "stream",
          "name": "stdout",
          "text": [
            "This is the first line.\n",
            "This is the second line.\n",
            "And this is the third line.\n"
          ]
        }
      ]
    },
    {
      "cell_type": "markdown",
      "source": [
        "**Q3. How would you handle a case where the file doesn't exist while trying to open it for reading?**"
      ],
      "metadata": {
        "id": "H4ogkYAOsXHp"
      }
    },
    {
      "cell_type": "code",
      "source": [
        "#Using try-except\n",
        "try:\n",
        "    with open(\"nonexistent_file.txt\", \"r\") as file:\n",
        "        for line in file:\n",
        "            print(line.strip())\n",
        "except FileNotFoundError:\n",
        "    print(\"Error: The file does not exist.\")\n"
      ],
      "metadata": {
        "colab": {
          "base_uri": "https://localhost:8080/"
        },
        "id": "YSB6D_lWsm1x",
        "outputId": "f7b10d5a-e1d7-4d58-844c-83c8f491f2db"
      },
      "execution_count": 3,
      "outputs": [
        {
          "output_type": "stream",
          "name": "stdout",
          "text": [
            "Error: The file does not exist.\n"
          ]
        }
      ]
    },
    {
      "cell_type": "markdown",
      "source": [
        "**Q4. Write a Python script that reads from one file and writes its content to another file?**"
      ],
      "metadata": {
        "id": "fqCAGJfPsu5E"
      }
    },
    {
      "cell_type": "code",
      "source": [
        "source_file = \"source.txt\"\n",
        "destination_file = \"destination.txt\"\n",
        "try:\n",
        "      with open(source_file, \"r\") as src:\n",
        "       content = src.readlines()\n",
        "\n",
        "\n",
        "       with open(destination_file, \"w\") as dest:\n",
        "        dest.writelines(content)\n",
        "\n",
        "      print(f\"Content has been copied from {source_file} to {destination_file}.\")\n",
        "\n",
        "except FileNotFoundError:\n",
        "  print(f\"Error: {source_file} does not exist.\")\n"
      ],
      "metadata": {
        "id": "6GpOmD37sx94"
      },
      "execution_count": null,
      "outputs": []
    },
    {
      "cell_type": "markdown",
      "source": [
        "**Q5. How would you catch and handle division by zero error in Python?**"
      ],
      "metadata": {
        "id": "4JfLbGD7tjB0"
      }
    },
    {
      "cell_type": "code",
      "source": [
        "#handling division by zero\n",
        "try:\n",
        "    numerator = 10\n",
        "    denominator = 0\n",
        "    result = numerator / denominator\n",
        "    print(\"Result:\", result)\n",
        "except ZeroDivisionError:\n",
        "    print(\"Error: Division by zero is not allowed.\")\n"
      ],
      "metadata": {
        "colab": {
          "base_uri": "https://localhost:8080/"
        },
        "id": "zIXNktmNttCw",
        "outputId": "0d9af8c2-7485-4a89-91dc-cee12d855d60"
      },
      "execution_count": 5,
      "outputs": [
        {
          "output_type": "stream",
          "name": "stdout",
          "text": [
            "Error: Division by zero is not allowed.\n"
          ]
        }
      ]
    },
    {
      "cell_type": "markdown",
      "source": [
        "**Q6. Write a Python program that logs an error message to a log file when a division by zero exception occurs**"
      ],
      "metadata": {
        "id": "O5Ge2_Met5s8"
      }
    },
    {
      "cell_type": "code",
      "source": [
        "import logging\n",
        "\n",
        "logging.basicConfig(\n",
        "    filename=\"error_log.log\",   # Log file name\n",
        "    level=logging.ERROR,        # Log only ERROR and above\n",
        "    format=\"%(asctime)s - %(levelname)s - %(message)s\"\n",
        ")\n",
        "\n",
        "def divide(a, b):\n",
        "    try:\n",
        "        result = a / b\n",
        "        return result\n",
        "    except ZeroDivisionError as e:\n",
        "        logging.error(\"Division by zero attempted. Inputs were a=%s, b=%s\", a, b)\n",
        "        return None\n",
        "\n",
        "print(divide(10, 2))\n",
        "print(divide(10, 0))\n"
      ],
      "metadata": {
        "colab": {
          "base_uri": "https://localhost:8080/"
        },
        "id": "3nQ-AD3Miicb",
        "outputId": "809cbfb5-739d-4ad9-aa9c-6c8604d9b475"
      },
      "execution_count": 1,
      "outputs": [
        {
          "output_type": "stream",
          "name": "stderr",
          "text": [
            "ERROR:root:Division by zero attempted. Inputs were a=10, b=0\n"
          ]
        },
        {
          "output_type": "stream",
          "name": "stdout",
          "text": [
            "5.0\n",
            "None\n"
          ]
        }
      ]
    },
    {
      "cell_type": "markdown",
      "source": [
        "**Q7. How do you log information at different levels (INFO, ERROR, WARNING) in Python using the logging module**"
      ],
      "metadata": {
        "id": "YOa61wRLiwsO"
      }
    },
    {
      "cell_type": "code",
      "source": [
        "import logging\n",
        "\n",
        "logging.basicConfig(\n",
        "    filename=\"app.log\",            # Log file\n",
        "    level=logging.DEBUG,           # Capture all levels (DEBUG and above)\n",
        "    format=\"%(asctime)s - %(levelname)s - %(message)s\"\n",
        ")\n",
        "\n",
        "logging.debug(\"This is a DEBUG message (useful for troubleshooting).\")\n",
        "logging.info(\"This is an INFO message (general information).\")\n",
        "logging.warning(\"This is a WARNING message (something unexpected happened).\")\n",
        "logging.error(\"This is an ERROR message (a serious issue occurred).\")\n",
        "logging.critical(\"This is a CRITICAL message (program may not continue).\")\n"
      ],
      "metadata": {
        "colab": {
          "base_uri": "https://localhost:8080/"
        },
        "id": "PJ-EqfOui1_e",
        "outputId": "cdda80db-3c24-49fc-8fe5-a5387abc72f1"
      },
      "execution_count": 2,
      "outputs": [
        {
          "output_type": "stream",
          "name": "stderr",
          "text": [
            "WARNING:root:This is a WARNING message (something unexpected happened).\n",
            "ERROR:root:This is an ERROR message (a serious issue occurred).\n",
            "CRITICAL:root:This is a CRITICAL message (program may not continue).\n"
          ]
        }
      ]
    },
    {
      "cell_type": "markdown",
      "source": [
        "**Q8. Write a program to handle a file opening error using exception handling**"
      ],
      "metadata": {
        "id": "RFi-UFbwjBa2"
      }
    },
    {
      "cell_type": "code",
      "source": [
        "def read_file(filename):\n",
        "    try:\n",
        "        with open(filename, \"r\") as file:\n",
        "            content = file.read()\n",
        "            print(\"File content:\\n\", content)\n",
        "    except FileNotFoundError:\n",
        "        print(f\"Error: The file '{filename}' was not found.\")\n",
        "    except PermissionError:\n",
        "        print(f\"Error: Permission denied to open the file '{filename}'.\")\n",
        "    except Exception as e:\n",
        "        print(f\"An unexpected error occurred: {e}\")\n",
        "\n",
        "read_file(\"example.txt\")        # Changing filename to test\n",
        "read_file(\"non_existing.txt\")  # Will trigger FileNotFoundError\n"
      ],
      "metadata": {
        "colab": {
          "base_uri": "https://localhost:8080/"
        },
        "id": "4a5AnT1ljIpm",
        "outputId": "4a39bd36-ca79-45b0-daf7-158201ddb979"
      },
      "execution_count": 3,
      "outputs": [
        {
          "output_type": "stream",
          "name": "stdout",
          "text": [
            "Error: The file 'example.txt' was not found.\n",
            "Error: The file 'non_existing.txt' was not found.\n"
          ]
        }
      ]
    },
    {
      "cell_type": "markdown",
      "source": [
        "**Q9. How can you read a file line by line and store its content in a list in Python?**"
      ],
      "metadata": {
        "id": "cqYXDpO4jWwW"
      }
    },
    {
      "cell_type": "code",
      "source": [
        "def read_file_to_list(filename):\n",
        "    with open(filename, \"r\") as file:\n",
        "        lines = file.readlines()\n",
        "        return [line.strip() for line in lines]\n",
        "\n",
        "file_content = read_file_to_list(\"example.txt\")\n",
        "print(file_content)\n"
      ],
      "metadata": {
        "id": "QGZjnRN1jh29"
      },
      "execution_count": null,
      "outputs": []
    },
    {
      "cell_type": "markdown",
      "source": [
        "**Q10. How can you append data to an existing file in Python?**"
      ],
      "metadata": {
        "id": "ALk8xFWBjx-a"
      }
    },
    {
      "cell_type": "code",
      "source": [
        "def append_to_file(filename, text):\n",
        "    try:\n",
        "        with open(filename, \"a\") as file:\n",
        "            file.write(text + \"\\n\")\n",
        "        print(\"Data appended successfully.\")\n",
        "    except Exception as e:\n",
        "        print(f\"An error occurred: {e}\")\n",
        "\n",
        "append_to_file(\"example.txt\", \"This is a new line.\")\n",
        "append_to_file(\"example.txt\", \"Another line added.\")\n"
      ],
      "metadata": {
        "colab": {
          "base_uri": "https://localhost:8080/"
        },
        "id": "PMT2qY4vj7gy",
        "outputId": "978a4b17-8b82-4473-c2c5-80a2ff2000b6"
      },
      "execution_count": 5,
      "outputs": [
        {
          "output_type": "stream",
          "name": "stdout",
          "text": [
            "Data appended successfully.\n",
            "Data appended successfully.\n"
          ]
        }
      ]
    },
    {
      "cell_type": "markdown",
      "source": [
        "**Q11. Write a Python program that uses a try-except block to handle an error when attempting to access a\n",
        "dictionary key that doesn't exist**\n"
      ],
      "metadata": {
        "id": "Kqo9ZMU4kGn2"
      }
    },
    {
      "cell_type": "code",
      "source": [
        "def get_value_from_dict(dictionary, key):\n",
        "    try:\n",
        "        value = dictionary[key]\n",
        "        print(f\"Value for '{key}': {value}\")\n",
        "    except KeyError:\n",
        "        print(f\"Error: The key '{key}' does not exist in the dictionary.\")\n",
        "    except Exception as e:\n",
        "        print(f\"An unexpected error occurred: {e}\")\n",
        "\n",
        "my_dict = {\"name\": \"Alice\", \"age\": 25, \"city\": \"New York\"}\n",
        "\n",
        "get_value_from_dict(my_dict, \"name\")\n",
        "get_value_from_dict(my_dict, \"country\")"
      ],
      "metadata": {
        "colab": {
          "base_uri": "https://localhost:8080/"
        },
        "id": "h76NgCkQkOdS",
        "outputId": "620e92f7-901d-4847-8287-0e855ebb87fa"
      },
      "execution_count": 6,
      "outputs": [
        {
          "output_type": "stream",
          "name": "stdout",
          "text": [
            "Value for 'name': Alice\n",
            "Error: The key 'country' does not exist in the dictionary.\n"
          ]
        }
      ]
    },
    {
      "cell_type": "markdown",
      "source": [
        "**Q12. Write a program that demonstrates using multiple except blocks to handle different types of exceptions**\n"
      ],
      "metadata": {
        "id": "v_XKLrHikXK1"
      }
    },
    {
      "cell_type": "code",
      "source": [
        "def exception_demo():\n",
        "    try:\n",
        "        num = int(input(\"Enter a number: \"))   # May raise ValueError\n",
        "        result = 10 / num                      # May raise ZeroDivisionError\n",
        "        print(\"Result:\", result)\n",
        "\n",
        "        data = {\"name\": \"Alice\"}\n",
        "        print(\"Age:\", data[\"age\"])             # May raise KeyError\n",
        "\n",
        "    except ValueError:\n",
        "        print(\"Error: Invalid input! Please enter a valid integer.\")\n",
        "    except ZeroDivisionError:\n",
        "        print(\"Error: Division by zero is not allowed.\")\n",
        "    except KeyError as e:\n",
        "        print(f\"Error: Missing key in dictionary -> {e}\")\n",
        "    except Exception as e:\n",
        "        print(f\"An unexpected error occurred: {e}\")\n",
        "\n",
        "exception_demo()\n"
      ],
      "metadata": {
        "colab": {
          "base_uri": "https://localhost:8080/"
        },
        "id": "Eac34rD4kcyJ",
        "outputId": "529f205b-7b0f-44cd-b712-8709152c0df7"
      },
      "execution_count": 7,
      "outputs": [
        {
          "output_type": "stream",
          "name": "stdout",
          "text": [
            "Enter a number: 25\n",
            "Result: 0.4\n",
            "Error: Missing key in dictionary -> 'age'\n"
          ]
        }
      ]
    },
    {
      "cell_type": "markdown",
      "source": [
        "**Q13. How would you check if a file exists before attempting to read it in Python**"
      ],
      "metadata": {
        "id": "fUYqGRCkkrbN"
      }
    },
    {
      "cell_type": "code",
      "source": [
        "import os\n",
        "\n",
        "filename = \"example.txt\"\n",
        "\n",
        "if os.path.exists(filename):\n",
        "    with open(filename, \"r\") as file:\n",
        "        content = file.read()\n",
        "        print(\"File content:\\n\", content)\n",
        "else:\n",
        "    print(f\"Error: The file '{filename}' does not exist.\")\n"
      ],
      "metadata": {
        "colab": {
          "base_uri": "https://localhost:8080/"
        },
        "id": "XTY-3iqZkvtR",
        "outputId": "bf264d97-d827-4b59-df23-7bb5b4e45f3c"
      },
      "execution_count": 8,
      "outputs": [
        {
          "output_type": "stream",
          "name": "stdout",
          "text": [
            "File content:\n",
            " This is a new line.\n",
            "Another line added.\n",
            "\n"
          ]
        }
      ]
    },
    {
      "cell_type": "markdown",
      "source": [
        "**Q14. Write a program that uses the logging module to log both informational and error messages**\n"
      ],
      "metadata": {
        "id": "BjxfIM-qk64C"
      }
    },
    {
      "cell_type": "code",
      "source": [
        "import logging\n",
        "\n",
        "logging.basicConfig(\n",
        "    filename=\"app.log\",\n",
        "    level=logging.DEBUG,\n",
        "    format=\"%(asctime)s - %(levelname)s - %(message)s\"\n",
        ")\n",
        "\n",
        "def divide(a, b):\n",
        "    try:\n",
        "        result = a / b\n",
        "        logging.info(f\"Division successful: {a} / {b} = {result}\")\n",
        "        return result\n",
        "    except ZeroDivisionError:\n",
        "        logging.error(f\"Attempted division by zero. Inputs were a={a}, b={b}\")\n",
        "        return None\n",
        "\n",
        "print(divide(10, 2))\n",
        "print(divide(10, 0))\n"
      ],
      "metadata": {
        "colab": {
          "base_uri": "https://localhost:8080/"
        },
        "id": "tg3Eq--ilAWB",
        "outputId": "36e968e9-264a-44ed-baa7-89c134cc7a84"
      },
      "execution_count": 9,
      "outputs": [
        {
          "output_type": "stream",
          "name": "stderr",
          "text": [
            "ERROR:root:Attempted division by zero. Inputs were a=10, b=0\n"
          ]
        },
        {
          "output_type": "stream",
          "name": "stdout",
          "text": [
            "5.0\n",
            "None\n"
          ]
        }
      ]
    },
    {
      "cell_type": "markdown",
      "source": [
        "**Q15. Write a Python program that prints the content of a file and handles the case when the file is empty**"
      ],
      "metadata": {
        "id": "woVPH-JzlMQt"
      }
    },
    {
      "cell_type": "code",
      "source": [
        "def print_file_content(filename):\n",
        "    try:\n",
        "        with open(filename, \"r\") as file:\n",
        "            content = file.read()\n",
        "            if content.strip():\n",
        "                print(\"File content:\\n\", content)\n",
        "            else:\n",
        "                print(f\"The file '{filename}' is empty.\")\n",
        "    except FileNotFoundError:\n",
        "        print(f\"Error: The file '{filename}' does not exist.\")\n",
        "    except Exception as e:\n",
        "        print(f\"An unexpected error occurred: {e}\")\n",
        "\n",
        "print_file_content(\"example.txt\")\n"
      ],
      "metadata": {
        "colab": {
          "base_uri": "https://localhost:8080/"
        },
        "id": "rdw5Wvt_lRbV",
        "outputId": "14b6f949-91f8-4065-9837-dbb0257dca4d"
      },
      "execution_count": 10,
      "outputs": [
        {
          "output_type": "stream",
          "name": "stdout",
          "text": [
            "File content:\n",
            " This is a new line.\n",
            "Another line added.\n",
            "\n"
          ]
        }
      ]
    },
    {
      "cell_type": "markdown",
      "source": [
        "**Q16.  Demonstrate how to use memory profiling to check the memory usage of a small program**"
      ],
      "metadata": {
        "id": "gw1-17U5lb5M"
      }
    },
    {
      "cell_type": "markdown",
      "source": [
        "Step 1: Install memory_profiler\n",
        "* pip install memory-profiler\n",
        "\n",
        "Step 2: Example Program with Memory Profiling\n",
        "\n",
        "```\n",
        "from memory_profiler import profile\n",
        "\n",
        "@profile\n",
        "def create_large_list():\n",
        "    data = [i for i in range(1000000)]  # create a list with 1 million integers\n",
        "    return data\n",
        "\n",
        "if __name__ == \"__main__\":\n",
        "    my_list = create_large_list()\n",
        "```\n",
        "Step 3: Run with Memory Profiler\n",
        "\n",
        "In terminal, run:\n",
        "\n",
        "python -m memory_profiler memory_demo.py\n"
      ],
      "metadata": {
        "id": "wNUNn2p-l3jp"
      }
    },
    {
      "cell_type": "markdown",
      "source": [
        "**Q17. Write a Python program to create and write a list of numbers to a file, one number per line**"
      ],
      "metadata": {
        "id": "LxKw6LCmmPJZ"
      }
    },
    {
      "cell_type": "code",
      "source": [
        "def write_numbers_to_file(filename, numbers):\n",
        "    try:\n",
        "        with open(filename, \"w\") as file:\n",
        "            for num in numbers:\n",
        "                file.write(str(num) + \"\\n\")\n",
        "        print(f\"Numbers written successfully to '{filename}'.\")\n",
        "    except Exception as e:\n",
        "        print(f\"An error occurred: {e}\")\n",
        "\n",
        "numbers_list = [1, 2, 3, 4, 5, 10, 20, 30]\n",
        "write_numbers_to_file(\"numbers.txt\", numbers_list)\n"
      ],
      "metadata": {
        "colab": {
          "base_uri": "https://localhost:8080/"
        },
        "id": "RsA4jBR_mWCf",
        "outputId": "18a47c1f-bb00-4b88-8ad0-b45bb39a6742"
      },
      "execution_count": 11,
      "outputs": [
        {
          "output_type": "stream",
          "name": "stdout",
          "text": [
            "Numbers written successfully to 'numbers.txt'.\n"
          ]
        }
      ]
    },
    {
      "cell_type": "markdown",
      "source": [
        "**Q18.  How would you implement a basic logging setup that logs to a file with rotation after 1MB**"
      ],
      "metadata": {
        "id": "O4ZN18eEmfNR"
      }
    },
    {
      "cell_type": "code",
      "source": [
        "import logging\n",
        "from logging.handlers import RotatingFileHandler\n",
        "\n",
        "log_handler = RotatingFileHandler(\n",
        "    \"app.log\", maxBytes=1_000_000, backupCount=3\n",
        ")\n",
        "\n",
        "logging.basicConfig(\n",
        "    level=logging.DEBUG,\n",
        "    format=\"%(asctime)s - %(levelname)s - %(message)s\",\n",
        "    handlers=[log_handler]\n",
        ")\n",
        "\n",
        "for i in range(10000):\n",
        "    logging.info(f\"Logging line {i}\")\n"
      ],
      "metadata": {
        "id": "MPZxA6_vmlBh"
      },
      "execution_count": 13,
      "outputs": []
    },
    {
      "cell_type": "markdown",
      "source": [
        "**Q19.  Write a program that handles both IndexError and KeyError using a try-except block**"
      ],
      "metadata": {
        "id": "eZ5EkIttmxXW"
      }
    },
    {
      "cell_type": "code",
      "source": [
        "def handle_errors():\n",
        "    my_list = [10, 20, 30]\n",
        "    my_dict = {\"name\": \"Alice\", \"age\": 25}\n",
        "\n",
        "    try:\n",
        "        print(\"List item at index 5:\", my_list[5])\n",
        "\n",
        "        print(\"City:\", my_dict[\"city\"])\n",
        "\n",
        "    except IndexError:\n",
        "        print(\"Error: Tried to access a list index that doesn’t exist.\")\n",
        "    except KeyError as e:\n",
        "        print(f\"Error: The dictionary key '{e}' does not exist.\")\n",
        "    except Exception as e:\n",
        "        print(f\"An unexpected error occurred: {e}\")\n",
        "\n",
        "handle_errors()\n"
      ],
      "metadata": {
        "colab": {
          "base_uri": "https://localhost:8080/"
        },
        "id": "F3NWPnRsm5-p",
        "outputId": "3c224eb8-3443-4468-85cc-658cad6011a5"
      },
      "execution_count": 14,
      "outputs": [
        {
          "output_type": "stream",
          "name": "stdout",
          "text": [
            "Error: Tried to access a list index that doesn’t exist.\n"
          ]
        }
      ]
    },
    {
      "cell_type": "markdown",
      "source": [
        "**Q20. How would you open a file and read its contents using a context manager in Python?**\n"
      ],
      "metadata": {
        "id": "Rr2qZq3wm_3o"
      }
    },
    {
      "cell_type": "code",
      "source": [
        "filename = \"example.txt\"\n",
        "\n",
        "try:\n",
        "    with open(filename, \"r\") as file:\n",
        "        for line in file:\n",
        "            print(line.strip())\n",
        "except FileNotFoundError:\n",
        "    print(f\"Error: The file '{filename}' does not exist.\")\n"
      ],
      "metadata": {
        "colab": {
          "base_uri": "https://localhost:8080/"
        },
        "id": "QHhJlaU_nGLx",
        "outputId": "0f2e1e32-a71f-4a52-d543-94445dc155a6"
      },
      "execution_count": 15,
      "outputs": [
        {
          "output_type": "stream",
          "name": "stdout",
          "text": [
            "This is a new line.\n",
            "Another line added.\n"
          ]
        }
      ]
    },
    {
      "cell_type": "markdown",
      "source": [
        "**Q21. Write a Python program that reads a file and prints the number of occurrences of a specific word**"
      ],
      "metadata": {
        "id": "2SK54xdqnQCN"
      }
    },
    {
      "cell_type": "code",
      "source": [
        "def count_word_occurrences(filename, word):\n",
        "    try:\n",
        "        with open(filename, \"r\") as file:\n",
        "            content = file.read().lower()\n",
        "            words = content.split()\n",
        "            count = words.count(word.lower())\n",
        "            print(f\"The word '{word}' occurs {count} times in '{filename}'.\")\n",
        "    except FileNotFoundError:\n",
        "        print(f\"Error: The file '{filename}' was not found.\")\n",
        "    except Exception as e:\n",
        "        print(f\"An unexpected error occurred: {e}\")\n",
        "\n",
        "\n",
        "count_word_occurrences(\"example.txt\", \"python\")\n"
      ],
      "metadata": {
        "colab": {
          "base_uri": "https://localhost:8080/"
        },
        "id": "fYNkkhhXnULu",
        "outputId": "c4ab8aba-1f12-4e5b-8288-823870bffa97"
      },
      "execution_count": 16,
      "outputs": [
        {
          "output_type": "stream",
          "name": "stdout",
          "text": [
            "The word 'python' occurs 0 times in 'example.txt'.\n"
          ]
        }
      ]
    },
    {
      "cell_type": "markdown",
      "source": [
        "**Q22. How can you check if a file is empty before attempting to read its contents?**"
      ],
      "metadata": {
        "id": "KB1WJYc2nb-Y"
      }
    },
    {
      "cell_type": "code",
      "source": [
        "from pathlib import Path\n",
        "\n",
        "filename = Path(\"example.txt\")\n",
        "\n",
        "if filename.exists():\n",
        "    if filename.stat().st_size == 0:\n",
        "        print(f\"The file '{filename}' is empty.\")\n",
        "    else:\n",
        "        with open(filename, \"r\") as file:\n",
        "            print(file.read())\n",
        "else:\n",
        "    print(f\"Error: The file '{filename}' does not exist.\")\n"
      ],
      "metadata": {
        "id": "CezloUs_t0lS"
      },
      "execution_count": null,
      "outputs": []
    },
    {
      "cell_type": "markdown",
      "source": [
        "**Q23.  Write a Python program that writes to a log file when an error occurs during file handling.**"
      ],
      "metadata": {
        "id": "iqka3srkt4qu"
      }
    },
    {
      "cell_type": "code",
      "source": [
        "import logging\n",
        "\n",
        "logging.basicConfig(\n",
        "    filename=\"file_errors.log\",\n",
        "    level=logging.ERROR,\n",
        "    format=\"%(asctime)s - %(levelname)s - %(message)s\"\n",
        ")\n",
        "\n",
        "def read_file(filename):\n",
        "    try:\n",
        "        with open(filename, \"r\") as file:\n",
        "            content = file.read()\n",
        "            print(\"File content:\\n\", content)\n",
        "    except FileNotFoundError:\n",
        "        logging.error(f\"File '{filename}' was not found.\")\n",
        "        print(f\"Error: The file '{filename}' does not exist.\")\n",
        "    except PermissionError:\n",
        "        logging.error(f\"Permission denied for file '{filename}'.\")\n",
        "        print(f\"Error: Permission denied for '{filename}'.\")\n",
        "    except Exception as e:\n",
        "        logging.error(f\"Unexpected error while handling file '{filename}': {e}\")\n",
        "        print(f\"An unexpected error occurred: {e}\")\n",
        "\n",
        "read_file(\"example.txt\")\n",
        "read_file(\"missing_file.txt\")\n"
      ],
      "metadata": {
        "colab": {
          "base_uri": "https://localhost:8080/"
        },
        "id": "1rR8cvnDt9uu",
        "outputId": "44436aec-502d-4645-c028-bca786d440d3"
      },
      "execution_count": 18,
      "outputs": [
        {
          "output_type": "stream",
          "name": "stderr",
          "text": [
            "ERROR:root:File 'missing_file.txt' was not found.\n"
          ]
        },
        {
          "output_type": "stream",
          "name": "stdout",
          "text": [
            "File content:\n",
            " This is a new line.\n",
            "Another line added.\n",
            "\n",
            "Error: The file 'missing_file.txt' does not exist.\n"
          ]
        }
      ]
    }
  ]
}